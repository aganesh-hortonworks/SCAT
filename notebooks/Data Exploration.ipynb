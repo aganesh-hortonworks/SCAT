{
 "cells": [
  {
   "cell_type": "code",
   "execution_count": 1,
   "metadata": {
    "collapsed": true
   },
   "outputs": [],
   "source": [
    "import numpy as np\n",
    "import pandas as pd\n",
    "import matplotlib.pyplot as plt\n",
    "%matplotlib inline"
   ]
  },
  {
   "cell_type": "code",
   "execution_count": 2,
   "metadata": {},
   "outputs": [],
   "source": [
    "sample_data_1 = pd.read_csv(\"../csv/sampledata1.csv\")\n",
    "sample_data_2 = pd.read_csv(\"../csv/sampledata2.csv\")"
   ]
  },
  {
   "cell_type": "code",
   "execution_count": 3,
   "metadata": {},
   "outputs": [
    {
     "data": {
      "text/plain": [
       "(27, 18)"
      ]
     },
     "execution_count": 3,
     "metadata": {},
     "output_type": "execute_result"
    }
   ],
   "source": [
    "sample_data_1.shape"
   ]
  },
  {
   "cell_type": "code",
   "execution_count": 4,
   "metadata": {},
   "outputs": [
    {
     "data": {
      "text/plain": [
       "(122, 18)"
      ]
     },
     "execution_count": 4,
     "metadata": {},
     "output_type": "execute_result"
    }
   ],
   "source": [
    "sample_data_2.shape"
   ]
  },
  {
   "cell_type": "code",
   "execution_count": 5,
   "metadata": {
    "collapsed": true
   },
   "outputs": [],
   "source": [
    "data1 = sample_data_1\n",
    "data2 = sample_data_2"
   ]
  },
  {
   "cell_type": "code",
   "execution_count": 6,
   "metadata": {},
   "outputs": [
    {
     "data": {
      "text/plain": [
       "(27, 18)"
      ]
     },
     "execution_count": 6,
     "metadata": {},
     "output_type": "execute_result"
    }
   ],
   "source": [
    "data1.shape"
   ]
  },
  {
   "cell_type": "code",
   "execution_count": 7,
   "metadata": {},
   "outputs": [],
   "source": [
    "data1.columns = [c.replace(' ', '_') for c in data1.columns]\n",
    "data2.columns = [c.replace(' ', '_') for c in data2.columns]"
   ]
  },
  {
   "cell_type": "code",
   "execution_count": 8,
   "metadata": {},
   "outputs": [
    {
     "data": {
      "text/html": [
       "<div>\n",
       "<style>\n",
       "    .dataframe thead tr:only-child th {\n",
       "        text-align: right;\n",
       "    }\n",
       "\n",
       "    .dataframe thead th {\n",
       "        text-align: left;\n",
       "    }\n",
       "\n",
       "    .dataframe tbody tr th {\n",
       "        vertical-align: top;\n",
       "    }\n",
       "</style>\n",
       "<table border=\"1\" class=\"dataframe\">\n",
       "  <thead>\n",
       "    <tr style=\"text-align: right;\">\n",
       "      <th></th>\n",
       "      <th>Severity</th>\n",
       "      <th>Customer_Record_ID</th>\n",
       "      <th>Account_Name</th>\n",
       "      <th>Case_Number</th>\n",
       "      <th>Status</th>\n",
       "      <th>Date/Time_Opened</th>\n",
       "      <th>Date/Time_Closed</th>\n",
       "      <th>Resolution_Time</th>\n",
       "      <th>Ambari_Version</th>\n",
       "      <th>Stack_Version</th>\n",
       "      <th>Product_Component</th>\n",
       "      <th>Apache_BugID_URL</th>\n",
       "      <th>Hortonworks_BugID_URL</th>\n",
       "      <th>HOTFIX_BugID_URL</th>\n",
       "      <th>EAR_URL</th>\n",
       "      <th>Root_Cause</th>\n",
       "      <th>Enhancement_Request_Number</th>\n",
       "      <th>Environment</th>\n",
       "    </tr>\n",
       "  </thead>\n",
       "  <tbody>\n",
       "  </tbody>\n",
       "</table>\n",
       "</div>"
      ],
      "text/plain": [
       "Empty DataFrame\n",
       "Columns: [Severity, Customer_Record_ID, Account_Name, Case_Number, Status, Date/Time_Opened, Date/Time_Closed, Resolution_Time, Ambari_Version, Stack_Version, Product_Component, Apache_BugID_URL, Hortonworks_BugID_URL, HOTFIX_BugID_URL, EAR_URL, Root_Cause, Enhancement_Request_Number, Environment]\n",
       "Index: []"
      ]
     },
     "execution_count": 8,
     "metadata": {},
     "output_type": "execute_result"
    }
   ],
   "source": [
    "data1[:0]"
   ]
  },
  {
   "cell_type": "code",
   "execution_count": 9,
   "metadata": {},
   "outputs": [
    {
     "name": "stdout",
     "output_type": "stream",
     "text": [
      "Severity\n",
      "Customer_Record_ID\n",
      "Account_Name\n",
      "Case_Number\n",
      "Status\n",
      "Date/Time_Opened\n",
      "Date/Time_Closed\n",
      "Resolution_Time\n",
      "Ambari_Version\n",
      "Stack_Version\n",
      "Product_Component\n",
      "Apache_BugID_URL\n",
      "Hortonworks_BugID_URL\n",
      "HOTFIX_BugID_URL\n",
      "EAR_URL\n",
      "Root_Cause\n",
      "Enhancement_Request_Number\n",
      "Environment\n"
     ]
    }
   ],
   "source": [
    "for x in data2.columns:\n",
    "    print(x)"
   ]
  },
  {
   "cell_type": "code",
   "execution_count": 10,
   "metadata": {},
   "outputs": [
    {
     "name": "stdout",
     "output_type": "stream",
     "text": [
      "HDFS\n",
      "HDFS\n",
      "HDFS\n",
      "Oozie\n",
      "Ambari\n",
      "HDFS\n",
      "Ambari\n",
      "Hive\n",
      "Hive\n",
      "YARN\n",
      "Hive\n",
      "YARN\n",
      "Solr (HDFS)\n",
      "Hbase\n",
      "Ambari\n",
      "Hive\n",
      "Ambari\n",
      "Hive\n",
      "HDFS\n",
      "HDFS\n",
      "Hbase\n",
      "Tez\n",
      "HDFS\n",
      "Hive\n",
      "Hive\n",
      "Hive\n",
      "HDFS\n"
     ]
    }
   ],
   "source": [
    "for x in data1[\"Product_Component\"]:\n",
    "    print(x)"
   ]
  },
  {
   "cell_type": "code",
   "execution_count": 12,
   "metadata": {},
   "outputs": [
    {
     "data": {
      "text/plain": [
       "array(['Hbase', 'Hive', 'HDFS', 'Solr (HDFS)', 'Oozie', 'Ambari',\n",
       "       'Accumulo', 'Zookeeper', 'Ranger', 'Cloudbreak', 'Ambari (HDF)',\n",
       "       'YARN', 'Kafka', 'Phoenix', 'Spark', 'NiFI', 'Map Reduce'], dtype=object)"
      ]
     },
     "execution_count": 12,
     "metadata": {},
     "output_type": "execute_result"
    }
   ],
   "source": [
    "components = data2[\"Product_Component\"].unique()\n",
    "components"
   ]
  },
  {
   "cell_type": "code",
   "execution_count": 18,
   "metadata": {},
   "outputs": [
    {
     "data": {
      "text/plain": [
       "HDFS            28\n",
       "Ambari          25\n",
       "Hive            18\n",
       "Hbase           16\n",
       "YARN             9\n",
       "Zookeeper        6\n",
       "Ranger           4\n",
       "Kafka            3\n",
       "NiFI             3\n",
       "Cloudbreak       2\n",
       "Solr (HDFS)      2\n",
       "Oozie            1\n",
       "Spark            1\n",
       "Accumulo         1\n",
       "Map Reduce       1\n",
       "Ambari (HDF)     1\n",
       "Phoenix          1\n",
       "Name: Product_Component, dtype: int64"
      ]
     },
     "execution_count": 18,
     "metadata": {},
     "output_type": "execute_result"
    }
   ],
   "source": [
    "pie_chart = data2[\"Product_Component\"].value_counts()\n",
    "pie_chart"
   ]
  },
  {
   "cell_type": "code",
   "execution_count": 17,
   "metadata": {},
   "outputs": [
    {
     "data": {
      "image/png": "[encoded data removed]",
      "text/plain": [
       "<matplotlib.figure.Figure at 0x13974d728d0>"
      ]
     },
     "metadata": {},
     "output_type": "display_data"
    }
   ],
   "source": [
    "plt.pie(pie_chart, labels = components)\n",
    "plt.show()"
   ]
  },
  {
   "cell_type": "code",
   "execution_count": null,
   "metadata": {
    "collapsed": true
   },
   "outputs": [],
   "source": []
  },
  {
   "cell_type": "code",
   "execution_count": null,
   "metadata": {
    "collapsed": true
   },
   "outputs": [],
   "source": []
  },
  {
   "cell_type": "code",
   "execution_count": null,
   "metadata": {
    "collapsed": true
   },
   "outputs": [],
   "source": []
  },
  {
   "cell_type": "code",
   "execution_count": null,
   "metadata": {
    "collapsed": true
   },
   "outputs": [],
   "source": []
  },
  {
   "cell_type": "code",
   "execution_count": null,
   "metadata": {
    "collapsed": true
   },
   "outputs": [],
   "source": []
  },
  {
   "cell_type": "code",
   "execution_count": null,
   "metadata": {
    "collapsed": true
   },
   "outputs": [],
   "source": []
  },
  {
   "cell_type": "code",
   "execution_count": null,
   "metadata": {
    "collapsed": true
   },
   "outputs": [],
   "source": [
    "def get_highest_component(data):\n",
    "    for x in data[\"Product_Component\"]:\n",
    "        "
   ]
  }
 ],
 "metadata": {
  "kernelspec": {
   "display_name": "Python 3",
   "language": "python",
   "name": "python3"
  },
  "language_info": {
   "codemirror_mode": {
    "name": "ipython",
    "version": 3
   },
   "file_extension": ".py",
   "mimetype": "text/x-python",
   "name": "python",
   "nbconvert_exporter": "python",
   "pygments_lexer": "ipython3",
   "version": "3.6.3"
  }
 },
 "nbformat": 4,
 "nbformat_minor": 2
}
